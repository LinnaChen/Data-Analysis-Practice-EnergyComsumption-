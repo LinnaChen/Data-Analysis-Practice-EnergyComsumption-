{
 "cells": [
  {
   "cell_type": "markdown",
   "metadata": {},
   "source": [
    "# Energy Consumption in China (2000 - 2018)\n"
   ]
  },
  {
   "cell_type": "markdown",
   "metadata": {},
   "source": [
    "## Statement\n",
    "*National Bureau of Statistics of China(NBS)* collects data from various aspects in China, including general survey, population, national accounts, tourism and so on. In recent years, it is said that energy consumption grows rapidly but the dataset in *NBS* can not observe directly. This project aims to analyze some parts the dataset of energy consumption in China and achieve data visualization.\n",
    "\n",
    "Here is the website of *NBS*: http://www.stats.gov.cn/english/"
   ]
  },
  {
   "cell_type": "markdown",
   "metadata": {},
   "source": [
    "   "
   ]
  },
  {
   "cell_type": "markdown",
   "metadata": {},
   "source": [
    "## Data Description\n",
    "\n",
    "*National Data* is established by *National Bureau of Statistics of China(NBS)*, which is a platform to share data of many aspects of China. *National Data* records regional data on consumption of major energy products of the country.  The data of this project is collected from *National Data* that it is absolutely true.\n"
   ]
  },
  {
   "cell_type": "markdown",
   "metadata": {},
   "source": [
    "\n",
    "![national_data.png](national_data.png)"
   ]
  },
  {
   "cell_type": "markdown",
   "metadata": {},
   "source": [
    "The data are structured as follows:"
   ]
  },
  {
   "cell_type": "markdown",
   "metadata": {},
   "source": [
    "Here are files of the data of different kinds of energy consumption in China from 2000 to 2015 except <kbd>total.csv</kbd>.\n",
    "<kbd>total.csv</kbd> includes the total consumption data from 2000 to 2018."
   ]
  },
  {
   "cell_type": "code",
   "execution_count": 1,
   "metadata": {
    "scrolled": true
   },
   "outputs": [
    {
     "name": "stdout",
     "output_type": "stream",
     "text": [
      "crude_oil.csv\n",
      "coke.csv\n",
      "total.csv\n",
      "electricity.csv\n",
      "kerosence.csv\n",
      "coal.csv\n",
      ".ipynb_checkpoints\n",
      "diesel_oil.csv\n",
      "gasoline.csv\n",
      "fuel_oil.csv\n",
      "natural_gas.csv\n"
     ]
    }
   ],
   "source": [
    "import os\n",
    "for file in os.listdir(r'annual_data_nation'):\n",
    "    print(file)"
   ]
  },
  {
   "cell_type": "markdown",
   "metadata": {},
   "source": [
    "       "
   ]
  },
  {
   "cell_type": "markdown",
   "metadata": {},
   "source": [
    "## Data Preparation"
   ]
  },
  {
   "cell_type": "markdown",
   "metadata": {},
   "source": [
    "Let's load some library needed throughout the analysis:"
   ]
  },
  {
   "cell_type": "code",
   "execution_count": 3,
   "metadata": {},
   "outputs": [],
   "source": [
    "import numpy as np\n",
    "import pandas as pd\n",
    "import matplotlib.pyplot as plt\n",
    "\n",
    "import seaborn as sns\n",
    "from sklearn.feature_extraction.text import CountVectorizer\n",
    "from sklearn.feature_extraction.text import TfidfVectorizer\n",
    "from sklearn.linear_model import LogisticRegression\n",
    "from sklearn.model_selection import train_test_split\n",
    "from sklearn.dummy import DummyClassifier\n",
    "from string import punctuation\n",
    "from sklearn import svm\n",
    "from nltk.corpus import stopwords\n",
    "from nltk.stem import WordNetLemmatizer\n",
    "import nltk\n",
    "from nltk import ngrams\n",
    "from itertools import chain\n",
    "from matplotlib import axes\n",
    "from matplotlib import cm\n",
    "import seaborn as sns\n",
    "sns.set(color_codes=True)"
   ]
  },
  {
   "cell_type": "markdown",
   "metadata": {},
   "source": [
    "     "
   ]
  },
  {
   "cell_type": "markdown",
   "metadata": {},
   "source": [
    "## Total Consumption"
   ]
  },
  {
   "cell_type": "markdown",
   "metadata": {},
   "source": [
    "Let's read the total consumption(including different aspects) of China in recent years."
   ]
  },
  {
   "cell_type": "code",
   "execution_count": 4,
   "metadata": {
    "scrolled": false
   },
   "outputs": [
    {
     "data": {
      "text/html": [
       "<div>\n",
       "<style scoped>\n",
       "    .dataframe tbody tr th:only-of-type {\n",
       "        vertical-align: middle;\n",
       "    }\n",
       "\n",
       "    .dataframe tbody tr th {\n",
       "        vertical-align: top;\n",
       "    }\n",
       "\n",
       "    .dataframe thead th {\n",
       "        text-align: right;\n",
       "    }\n",
       "</style>\n",
       "<table border=\"1\" class=\"dataframe\">\n",
       "  <thead>\n",
       "    <tr style=\"text-align: right;\">\n",
       "      <th></th>\n",
       "      <th>Indicators</th>\n",
       "      <th>2018</th>\n",
       "      <th>2017</th>\n",
       "      <th>2016</th>\n",
       "      <th>2015</th>\n",
       "      <th>2014</th>\n",
       "      <th>2013</th>\n",
       "      <th>2012</th>\n",
       "      <th>2011</th>\n",
       "      <th>2010</th>\n",
       "      <th>...</th>\n",
       "      <th>2008</th>\n",
       "      <th>2007</th>\n",
       "      <th>2006</th>\n",
       "      <th>2005</th>\n",
       "      <th>2004</th>\n",
       "      <th>2003</th>\n",
       "      <th>2002</th>\n",
       "      <th>2001</th>\n",
       "      <th>2000</th>\n",
       "      <th>1999</th>\n",
       "    </tr>\n",
       "  </thead>\n",
       "  <tbody>\n",
       "    <tr>\n",
       "      <th>0</th>\n",
       "      <td>Total Energy Consumption(10000 tons of SCE)</td>\n",
       "      <td>464000.0</td>\n",
       "      <td>449000.0</td>\n",
       "      <td>435818.63</td>\n",
       "      <td>429905.00</td>\n",
       "      <td>425806.00</td>\n",
       "      <td>416913.00</td>\n",
       "      <td>402138.00</td>\n",
       "      <td>387043.00</td>\n",
       "      <td>360648.00</td>\n",
       "      <td>...</td>\n",
       "      <td>320611.00</td>\n",
       "      <td>311442.00</td>\n",
       "      <td>286467.00</td>\n",
       "      <td>261369.00</td>\n",
       "      <td>230281.00</td>\n",
       "      <td>197083.00</td>\n",
       "      <td>169577.00</td>\n",
       "      <td>155547.00</td>\n",
       "      <td>146964.00</td>\n",
       "      <td>NaN</td>\n",
       "    </tr>\n",
       "    <tr>\n",
       "      <th>1</th>\n",
       "      <td>Total Energy Consumption Farming Forestry Anim...</td>\n",
       "      <td>NaN</td>\n",
       "      <td>NaN</td>\n",
       "      <td>NaN</td>\n",
       "      <td>8231.66</td>\n",
       "      <td>8094.27</td>\n",
       "      <td>8054.80</td>\n",
       "      <td>6784.43</td>\n",
       "      <td>6758.56</td>\n",
       "      <td>6477.30</td>\n",
       "      <td>...</td>\n",
       "      <td>6013.13</td>\n",
       "      <td>6228.40</td>\n",
       "      <td>6330.71</td>\n",
       "      <td>6071.06</td>\n",
       "      <td>5697.35</td>\n",
       "      <td>4954.60</td>\n",
       "      <td>4331.18</td>\n",
       "      <td>4115.20</td>\n",
       "      <td>3913.77</td>\n",
       "      <td>NaN</td>\n",
       "    </tr>\n",
       "    <tr>\n",
       "      <th>2</th>\n",
       "      <td>Total Energy Consumption Industry(10000 tons o...</td>\n",
       "      <td>NaN</td>\n",
       "      <td>NaN</td>\n",
       "      <td>NaN</td>\n",
       "      <td>292275.96</td>\n",
       "      <td>295686.44</td>\n",
       "      <td>291130.63</td>\n",
       "      <td>252462.78</td>\n",
       "      <td>246440.96</td>\n",
       "      <td>232018.82</td>\n",
       "      <td>...</td>\n",
       "      <td>209302.15</td>\n",
       "      <td>200531.38</td>\n",
       "      <td>184945.45</td>\n",
       "      <td>168723.53</td>\n",
       "      <td>152506.51</td>\n",
       "      <td>131167.92</td>\n",
       "      <td>113600.44</td>\n",
       "      <td>107137.60</td>\n",
       "      <td>103773.85</td>\n",
       "      <td>NaN</td>\n",
       "    </tr>\n",
       "    <tr>\n",
       "      <th>3</th>\n",
       "      <td>Total Energy Consumption Mining(10000 tons of ...</td>\n",
       "      <td>NaN</td>\n",
       "      <td>NaN</td>\n",
       "      <td>NaN</td>\n",
       "      <td>19258.44</td>\n",
       "      <td>23026.02</td>\n",
       "      <td>23924.43</td>\n",
       "      <td>21176.92</td>\n",
       "      <td>20024.66</td>\n",
       "      <td>18399.39</td>\n",
       "      <td>...</td>\n",
       "      <td>17050.44</td>\n",
       "      <td>15240.74</td>\n",
       "      <td>14247.13</td>\n",
       "      <td>13914.67</td>\n",
       "      <td>13182.63</td>\n",
       "      <td>13187.60</td>\n",
       "      <td>11685.52</td>\n",
       "      <td>11440.02</td>\n",
       "      <td>10968.06</td>\n",
       "      <td>NaN</td>\n",
       "    </tr>\n",
       "    <tr>\n",
       "      <th>4</th>\n",
       "      <td>Total Energy Consumption Extraction of Petrole...</td>\n",
       "      <td>NaN</td>\n",
       "      <td>NaN</td>\n",
       "      <td>NaN</td>\n",
       "      <td>4266.09</td>\n",
       "      <td>4263.82</td>\n",
       "      <td>4088.42</td>\n",
       "      <td>3807.89</td>\n",
       "      <td>3934.36</td>\n",
       "      <td>4057.55</td>\n",
       "      <td>...</td>\n",
       "      <td>4210.04</td>\n",
       "      <td>3651.26</td>\n",
       "      <td>3586.79</td>\n",
       "      <td>3710.92</td>\n",
       "      <td>3637.69</td>\n",
       "      <td>4677.96</td>\n",
       "      <td>4680.63</td>\n",
       "      <td>4215.30</td>\n",
       "      <td>3963.58</td>\n",
       "      <td>NaN</td>\n",
       "    </tr>\n",
       "  </tbody>\n",
       "</table>\n",
       "<p>5 rows × 21 columns</p>\n",
       "</div>"
      ],
      "text/plain": [
       "                                          Indicators      2018      2017  \\\n",
       "0        Total Energy Consumption(10000 tons of SCE)  464000.0  449000.0   \n",
       "1  Total Energy Consumption Farming Forestry Anim...       NaN       NaN   \n",
       "2  Total Energy Consumption Industry(10000 tons o...       NaN       NaN   \n",
       "3  Total Energy Consumption Mining(10000 tons of ...       NaN       NaN   \n",
       "4  Total Energy Consumption Extraction of Petrole...       NaN       NaN   \n",
       "\n",
       "        2016       2015       2014       2013       2012       2011  \\\n",
       "0  435818.63  429905.00  425806.00  416913.00  402138.00  387043.00   \n",
       "1        NaN    8231.66    8094.27    8054.80    6784.43    6758.56   \n",
       "2        NaN  292275.96  295686.44  291130.63  252462.78  246440.96   \n",
       "3        NaN   19258.44   23026.02   23924.43   21176.92   20024.66   \n",
       "4        NaN    4266.09    4263.82    4088.42    3807.89    3934.36   \n",
       "\n",
       "        2010  ...        2008       2007       2006       2005       2004  \\\n",
       "0  360648.00  ...   320611.00  311442.00  286467.00  261369.00  230281.00   \n",
       "1    6477.30  ...     6013.13    6228.40    6330.71    6071.06    5697.35   \n",
       "2  232018.82  ...   209302.15  200531.38  184945.45  168723.53  152506.51   \n",
       "3   18399.39  ...    17050.44   15240.74   14247.13   13914.67   13182.63   \n",
       "4    4057.55  ...     4210.04    3651.26    3586.79    3710.92    3637.69   \n",
       "\n",
       "        2003       2002       2001       2000  1999  \n",
       "0  197083.00  169577.00  155547.00  146964.00   NaN  \n",
       "1    4954.60    4331.18    4115.20    3913.77   NaN  \n",
       "2  131167.92  113600.44  107137.60  103773.85   NaN  \n",
       "3   13187.60   11685.52   11440.02   10968.06   NaN  \n",
       "4    4677.96    4680.63    4215.30    3963.58   NaN  \n",
       "\n",
       "[5 rows x 21 columns]"
      ]
     },
     "execution_count": 4,
     "metadata": {},
     "output_type": "execute_result"
    }
   ],
   "source": [
    "total = pd.read_csv('annual_data_nation/total.csv')\n",
    "total.head(5)"
   ]
  },
  {
   "cell_type": "code",
   "execution_count": 272,
   "metadata": {
    "scrolled": false
   },
   "outputs": [
    {
     "data": {
      "text/plain": [
       "<matplotlib.legend.Legend at 0x1a30f6ce80>"
      ]
     },
     "execution_count": 272,
     "metadata": {},
     "output_type": "execute_result"
    },
    {
     "data": {
      "image/png": "[encoded data removed]",
      "text/plain": [
       "<Figure size 432x288 with 1 Axes>"
      ]
     },
     "metadata": {},
     "output_type": "display_data"
    }
   ],
   "source": [
    "#View it by plot\n",
    "\n",
    "sns.set(style=\"whitegrid\")\n",
    "\n",
    "total.plot()\n",
    "plt.gca().invert_xaxis() \n",
    "plt.legend(loc='upper center', bbox_to_anchor=(1.2,1.2))"
   ]
  },
  {
   "cell_type": "markdown",
   "metadata": {},
   "source": [
    "             "
   ]
  },
  {
   "cell_type": "markdown",
   "metadata": {},
   "source": [
    "From the table, we can find that some data was missing and the data of `Total Energy Consumption` is sufficient. I plan to select `Total Energy Consumption` to do some simple analysis and make some plots."
   ]
  },
  {
   "cell_type": "code",
   "execution_count": 262,
   "metadata": {
    "scrolled": true
   },
   "outputs": [
    {
     "data": {
      "text/html": [
       "<div>\n",
       "<style scoped>\n",
       "    .dataframe tbody tr th:only-of-type {\n",
       "        vertical-align: middle;\n",
       "    }\n",
       "\n",
       "    .dataframe tbody tr th {\n",
       "        vertical-align: top;\n",
       "    }\n",
       "\n",
       "    .dataframe thead th {\n",
       "        text-align: right;\n",
       "    }\n",
       "</style>\n",
       "<table border=\"1\" class=\"dataframe\">\n",
       "  <thead>\n",
       "    <tr style=\"text-align: right;\">\n",
       "      <th></th>\n",
       "      <th>2018</th>\n",
       "      <th>2017</th>\n",
       "      <th>2016</th>\n",
       "      <th>2015</th>\n",
       "      <th>2014</th>\n",
       "      <th>2013</th>\n",
       "      <th>2012</th>\n",
       "      <th>2011</th>\n",
       "      <th>2010</th>\n",
       "      <th>2009</th>\n",
       "      <th>2008</th>\n",
       "      <th>2007</th>\n",
       "      <th>2006</th>\n",
       "      <th>2005</th>\n",
       "      <th>2004</th>\n",
       "      <th>2003</th>\n",
       "      <th>2002</th>\n",
       "      <th>2001</th>\n",
       "      <th>2000</th>\n",
       "    </tr>\n",
       "  </thead>\n",
       "  <tbody>\n",
       "    <tr>\n",
       "      <th>0</th>\n",
       "      <td>464000</td>\n",
       "      <td>449000</td>\n",
       "      <td>435819</td>\n",
       "      <td>429905</td>\n",
       "      <td>425806</td>\n",
       "      <td>416913</td>\n",
       "      <td>402138</td>\n",
       "      <td>387043</td>\n",
       "      <td>360648</td>\n",
       "      <td>336126</td>\n",
       "      <td>320611</td>\n",
       "      <td>311442</td>\n",
       "      <td>286467</td>\n",
       "      <td>261369</td>\n",
       "      <td>230281</td>\n",
       "      <td>197083</td>\n",
       "      <td>169577</td>\n",
       "      <td>155547</td>\n",
       "      <td>146964</td>\n",
       "    </tr>\n",
       "  </tbody>\n",
       "</table>\n",
       "</div>"
      ],
      "text/plain": [
       "     2018    2017    2016    2015    2014    2013    2012    2011    2010  \\\n",
       "0  464000  449000  435819  429905  425806  416913  402138  387043  360648   \n",
       "\n",
       "     2009    2008    2007    2006    2005    2004    2003    2002    2001  \\\n",
       "0  336126  320611  311442  286467  261369  230281  197083  169577  155547   \n",
       "\n",
       "     2000  \n",
       "0  146964  "
      ]
     },
     "execution_count": 262,
     "metadata": {},
     "output_type": "execute_result"
    }
   ],
   "source": [
    "# Total consumption change from 2000 to 2018\n",
    "total1 = (total[0:1]).T[1:20]\n",
    "total1.T"
   ]
  },
  {
   "cell_type": "markdown",
   "metadata": {},
   "source": [
    "   "
   ]
  },
  {
   "cell_type": "code",
   "execution_count": 263,
   "metadata": {
    "scrolled": false
   },
   "outputs": [
    {
     "data": {
      "image/png": "[encoded data removed]",
      "text/plain": [
       "<Figure size 432x288 with 1 Axes>"
      ]
     },
     "metadata": {},
     "output_type": "display_data"
    },
    {
     "data": {
      "image/png": "[encoded data removed]",
      "text/plain": [
       "<Figure size 432x288 with 1 Axes>"
      ]
     },
     "metadata": {},
     "output_type": "display_data"
    }
   ],
   "source": [
    "# total energy consumption\n",
    "\n",
    "total1.plot()\n",
    "plt.gca().invert_xaxis() \n",
    "plt.legend();\n",
    "\n",
    "total1.plot(kind='bar')\n",
    "plt.gca().invert_xaxis() \n",
    "plt.legend();"
   ]
  },
  {
   "cell_type": "markdown",
   "metadata": {},
   "source": [
    "       "
   ]
  },
  {
   "cell_type": "markdown",
   "metadata": {},
   "source": [
    "From the table above, we can easily find that the consumption rises stably. <br>\n",
    "<br>\n",
    "I wonder if we can observe details better. So I select 7 most representative types of energy consumption and view them by `pairplot`."
   ]
  },
  {
   "cell_type": "markdown",
   "metadata": {},
   "source": [
    "          "
   ]
  },
  {
   "cell_type": "code",
   "execution_count": 9,
   "metadata": {
    "scrolled": false
   },
   "outputs": [
    {
     "data": {
      "text/html": [
       "<div>\n",
       "<style scoped>\n",
       "    .dataframe tbody tr th:only-of-type {\n",
       "        vertical-align: middle;\n",
       "    }\n",
       "\n",
       "    .dataframe tbody tr th {\n",
       "        vertical-align: top;\n",
       "    }\n",
       "\n",
       "    .dataframe thead th {\n",
       "        text-align: right;\n",
       "    }\n",
       "</style>\n",
       "<table border=\"1\" class=\"dataframe\">\n",
       "  <thead>\n",
       "    <tr style=\"text-align: right;\">\n",
       "      <th></th>\n",
       "      <th>Indicators</th>\n",
       "      <th>2015</th>\n",
       "      <th>2014</th>\n",
       "      <th>2013</th>\n",
       "      <th>2012</th>\n",
       "      <th>2011</th>\n",
       "      <th>2010</th>\n",
       "      <th>2009</th>\n",
       "      <th>2008</th>\n",
       "      <th>2007</th>\n",
       "      <th>2006</th>\n",
       "      <th>2005</th>\n",
       "      <th>2004</th>\n",
       "      <th>2003</th>\n",
       "      <th>2002</th>\n",
       "      <th>2001</th>\n",
       "      <th>2000</th>\n",
       "    </tr>\n",
       "  </thead>\n",
       "  <tbody>\n",
       "    <tr>\n",
       "      <th>1</th>\n",
       "      <td>Total Energy Consumption Farming Forestry Anim...</td>\n",
       "      <td>8231.66</td>\n",
       "      <td>8094.27</td>\n",
       "      <td>8054.80</td>\n",
       "      <td>6784.43</td>\n",
       "      <td>6758.56</td>\n",
       "      <td>6477.30</td>\n",
       "      <td>6251.18</td>\n",
       "      <td>6013.13</td>\n",
       "      <td>6228.40</td>\n",
       "      <td>6330.71</td>\n",
       "      <td>6071.06</td>\n",
       "      <td>5697.35</td>\n",
       "      <td>4954.60</td>\n",
       "      <td>4331.18</td>\n",
       "      <td>4115.20</td>\n",
       "      <td>3913.77</td>\n",
       "    </tr>\n",
       "    <tr>\n",
       "      <th>2</th>\n",
       "      <td>Total Energy Consumption Industry(10000 tons o...</td>\n",
       "      <td>292275.96</td>\n",
       "      <td>295686.44</td>\n",
       "      <td>291130.63</td>\n",
       "      <td>252462.78</td>\n",
       "      <td>246440.96</td>\n",
       "      <td>232018.82</td>\n",
       "      <td>219197.16</td>\n",
       "      <td>209302.15</td>\n",
       "      <td>200531.38</td>\n",
       "      <td>184945.45</td>\n",
       "      <td>168723.53</td>\n",
       "      <td>152506.51</td>\n",
       "      <td>131167.92</td>\n",
       "      <td>113600.44</td>\n",
       "      <td>107137.60</td>\n",
       "      <td>103773.85</td>\n",
       "    </tr>\n",
       "    <tr>\n",
       "      <th>3</th>\n",
       "      <td>Total Energy Consumption Mining(10000 tons of ...</td>\n",
       "      <td>19258.44</td>\n",
       "      <td>23026.02</td>\n",
       "      <td>23924.43</td>\n",
       "      <td>21176.92</td>\n",
       "      <td>20024.66</td>\n",
       "      <td>18399.39</td>\n",
       "      <td>17585.17</td>\n",
       "      <td>17050.44</td>\n",
       "      <td>15240.74</td>\n",
       "      <td>14247.13</td>\n",
       "      <td>13914.67</td>\n",
       "      <td>13182.63</td>\n",
       "      <td>13187.60</td>\n",
       "      <td>11685.52</td>\n",
       "      <td>11440.02</td>\n",
       "      <td>10968.06</td>\n",
       "    </tr>\n",
       "    <tr>\n",
       "      <th>4</th>\n",
       "      <td>Total Energy Consumption Extraction of Petrole...</td>\n",
       "      <td>4266.09</td>\n",
       "      <td>4263.82</td>\n",
       "      <td>4088.42</td>\n",
       "      <td>3807.89</td>\n",
       "      <td>3934.36</td>\n",
       "      <td>4057.55</td>\n",
       "      <td>3945.90</td>\n",
       "      <td>4210.04</td>\n",
       "      <td>3651.26</td>\n",
       "      <td>3586.79</td>\n",
       "      <td>3710.92</td>\n",
       "      <td>3637.69</td>\n",
       "      <td>4677.96</td>\n",
       "      <td>4680.63</td>\n",
       "      <td>4215.30</td>\n",
       "      <td>3963.58</td>\n",
       "    </tr>\n",
       "    <tr>\n",
       "      <th>5</th>\n",
       "      <td>Total Energy Consumption Mining and Washing of...</td>\n",
       "      <td>10168.06</td>\n",
       "      <td>13079.88</td>\n",
       "      <td>14179.99</td>\n",
       "      <td>12339.12</td>\n",
       "      <td>11566.47</td>\n",
       "      <td>10574.43</td>\n",
       "      <td>10206.55</td>\n",
       "      <td>9356.17</td>\n",
       "      <td>8269.88</td>\n",
       "      <td>7672.90</td>\n",
       "      <td>7522.45</td>\n",
       "      <td>7180.22</td>\n",
       "      <td>6193.70</td>\n",
       "      <td>5132.80</td>\n",
       "      <td>5440.30</td>\n",
       "      <td>5286.08</td>\n",
       "    </tr>\n",
       "    <tr>\n",
       "      <th>6</th>\n",
       "      <td>Total Energy Consumption Mining and Processing...</td>\n",
       "      <td>1658.89</td>\n",
       "      <td>2169.98</td>\n",
       "      <td>2223.59</td>\n",
       "      <td>1842.98</td>\n",
       "      <td>1920.70</td>\n",
       "      <td>1573.35</td>\n",
       "      <td>1250.90</td>\n",
       "      <td>1408.03</td>\n",
       "      <td>1330.32</td>\n",
       "      <td>1138.05</td>\n",
       "      <td>971.13</td>\n",
       "      <td>720.26</td>\n",
       "      <td>593.14</td>\n",
       "      <td>450.92</td>\n",
       "      <td>390.60</td>\n",
       "      <td>374.66</td>\n",
       "    </tr>\n",
       "    <tr>\n",
       "      <th>7</th>\n",
       "      <td>Total Energy Consumption Mining and Processing...</td>\n",
       "      <td>1171.81</td>\n",
       "      <td>1280.16</td>\n",
       "      <td>1280.19</td>\n",
       "      <td>1180.82</td>\n",
       "      <td>1146.53</td>\n",
       "      <td>954.16</td>\n",
       "      <td>832.89</td>\n",
       "      <td>863.14</td>\n",
       "      <td>828.89</td>\n",
       "      <td>738.02</td>\n",
       "      <td>680.67</td>\n",
       "      <td>646.12</td>\n",
       "      <td>604.60</td>\n",
       "      <td>467.77</td>\n",
       "      <td>453.50</td>\n",
       "      <td>425.26</td>\n",
       "    </tr>\n",
       "  </tbody>\n",
       "</table>\n",
       "</div>"
      ],
      "text/plain": [
       "                                          Indicators       2015       2014  \\\n",
       "1  Total Energy Consumption Farming Forestry Anim...    8231.66    8094.27   \n",
       "2  Total Energy Consumption Industry(10000 tons o...  292275.96  295686.44   \n",
       "3  Total Energy Consumption Mining(10000 tons of ...   19258.44   23026.02   \n",
       "4  Total Energy Consumption Extraction of Petrole...    4266.09    4263.82   \n",
       "5  Total Energy Consumption Mining and Washing of...   10168.06   13079.88   \n",
       "6  Total Energy Consumption Mining and Processing...    1658.89    2169.98   \n",
       "7  Total Energy Consumption Mining and Processing...    1171.81    1280.16   \n",
       "\n",
       "        2013       2012       2011       2010       2009       2008  \\\n",
       "1    8054.80    6784.43    6758.56    6477.30    6251.18    6013.13   \n",
       "2  291130.63  252462.78  246440.96  232018.82  219197.16  209302.15   \n",
       "3   23924.43   21176.92   20024.66   18399.39   17585.17   17050.44   \n",
       "4    4088.42    3807.89    3934.36    4057.55    3945.90    4210.04   \n",
       "5   14179.99   12339.12   11566.47   10574.43   10206.55    9356.17   \n",
       "6    2223.59    1842.98    1920.70    1573.35    1250.90    1408.03   \n",
       "7    1280.19    1180.82    1146.53     954.16     832.89     863.14   \n",
       "\n",
       "        2007       2006       2005       2004       2003       2002  \\\n",
       "1    6228.40    6330.71    6071.06    5697.35    4954.60    4331.18   \n",
       "2  200531.38  184945.45  168723.53  152506.51  131167.92  113600.44   \n",
       "3   15240.74   14247.13   13914.67   13182.63   13187.60   11685.52   \n",
       "4    3651.26    3586.79    3710.92    3637.69    4677.96    4680.63   \n",
       "5    8269.88    7672.90    7522.45    7180.22    6193.70    5132.80   \n",
       "6    1330.32    1138.05     971.13     720.26     593.14     450.92   \n",
       "7     828.89     738.02     680.67     646.12     604.60     467.77   \n",
       "\n",
       "        2001       2000  \n",
       "1    4115.20    3913.77  \n",
       "2  107137.60  103773.85  \n",
       "3   11440.02   10968.06  \n",
       "4    4215.30    3963.58  \n",
       "5    5440.30    5286.08  \n",
       "6     390.60     374.66  \n",
       "7     453.50     425.26  "
      ]
     },
     "execution_count": 9,
     "metadata": {},
     "output_type": "execute_result"
    }
   ],
   "source": [
    "# Select data\n",
    "\n",
    "total2 = total[1:8].dropna(axis=1, how='any')\n",
    "total2"
   ]
  },
  {
   "cell_type": "markdown",
   "metadata": {},
   "source": [
    "They are pretty consistent and it is hard to find which grows fastest and effects the total consumption more."
   ]
  },
  {
   "cell_type": "markdown",
   "metadata": {},
   "source": [
    "      "
   ]
  },
  {
   "cell_type": "markdown",
   "metadata": {},
   "source": [
    "## Electricity Consumption"
   ]
  },
  {
   "cell_type": "markdown",
   "metadata": {},
   "source": [
    "As the technology develops quickly, electrity consumption of the whole country grows rapidly. I guess that the electrity consumption has a big influence in the change of total consumption. Here is the data of national electricity consumption and I try to privide that assumption by the following analysis.   \n",
    "Also, some remote places of China can use electricity very late. The data of electricity consumption also need to do some data cleaning."
   ]
  },
  {
   "cell_type": "markdown",
   "metadata": {},
   "source": [
    "### National Electricity Consumption"
   ]
  },
  {
   "cell_type": "code",
   "execution_count": 75,
   "metadata": {},
   "outputs": [
    {
     "data": {
      "text/html": [
       "<div>\n",
       "<style scoped>\n",
       "    .dataframe tbody tr th:only-of-type {\n",
       "        vertical-align: middle;\n",
       "    }\n",
       "\n",
       "    .dataframe tbody tr th {\n",
       "        vertical-align: top;\n",
       "    }\n",
       "\n",
       "    .dataframe thead th {\n",
       "        text-align: right;\n",
       "    }\n",
       "</style>\n",
       "<table border=\"1\" class=\"dataframe\">\n",
       "  <thead>\n",
       "    <tr style=\"text-align: right;\">\n",
       "      <th></th>\n",
       "      <th>Indicators</th>\n",
       "      <th>2015</th>\n",
       "      <th>2014</th>\n",
       "      <th>2013</th>\n",
       "      <th>2012</th>\n",
       "      <th>2011</th>\n",
       "      <th>2010</th>\n",
       "      <th>2009</th>\n",
       "      <th>2008</th>\n",
       "      <th>2007</th>\n",
       "      <th>2006</th>\n",
       "      <th>2005</th>\n",
       "      <th>2004</th>\n",
       "      <th>2003</th>\n",
       "      <th>2002</th>\n",
       "      <th>2001</th>\n",
       "      <th>2000</th>\n",
       "    </tr>\n",
       "  </thead>\n",
       "  <tbody>\n",
       "    <tr>\n",
       "      <th>0</th>\n",
       "      <td>Total Electricity Consumption(100 million kwh)</td>\n",
       "      <td>58019.97</td>\n",
       "      <td>56383.69</td>\n",
       "      <td>54203.41</td>\n",
       "      <td>49762.64</td>\n",
       "      <td>47000.88</td>\n",
       "      <td>41934.49</td>\n",
       "      <td>37032.14</td>\n",
       "      <td>34541.35</td>\n",
       "      <td>32711.81</td>\n",
       "      <td>28587.97</td>\n",
       "      <td>24940.32</td>\n",
       "      <td>21971.37</td>\n",
       "      <td>19031.60</td>\n",
       "      <td>16465.45</td>\n",
       "      <td>14723.46</td>\n",
       "      <td>13472.38</td>\n",
       "    </tr>\n",
       "    <tr>\n",
       "      <th>1</th>\n",
       "      <td>Total Electricity Consumption Farming Forestry...</td>\n",
       "      <td>1039.83</td>\n",
       "      <td>1013.39</td>\n",
       "      <td>1026.87</td>\n",
       "      <td>1012.57</td>\n",
       "      <td>1012.90</td>\n",
       "      <td>976.49</td>\n",
       "      <td>939.90</td>\n",
       "      <td>887.05</td>\n",
       "      <td>878.96</td>\n",
       "      <td>827.04</td>\n",
       "      <td>776.33</td>\n",
       "      <td>768.87</td>\n",
       "      <td>693.15</td>\n",
       "      <td>606.23</td>\n",
       "      <td>582.39</td>\n",
       "      <td>532.96</td>\n",
       "    </tr>\n",
       "    <tr>\n",
       "      <th>2</th>\n",
       "      <td>Total Electricity Consumption Industry(100 mil...</td>\n",
       "      <td>41549.99</td>\n",
       "      <td>40802.71</td>\n",
       "      <td>39236.88</td>\n",
       "      <td>36232.21</td>\n",
       "      <td>34691.55</td>\n",
       "      <td>30871.77</td>\n",
       "      <td>26854.49</td>\n",
       "      <td>25388.63</td>\n",
       "      <td>24290.81</td>\n",
       "      <td>21267.74</td>\n",
       "      <td>18521.69</td>\n",
       "      <td>16424.29</td>\n",
       "      <td>14169.68</td>\n",
       "      <td>12402.16</td>\n",
       "      <td>10944.66</td>\n",
       "      <td>10004.62</td>\n",
       "    </tr>\n",
       "    <tr>\n",
       "      <th>3</th>\n",
       "      <td>Total Electricity Consumption Mining(100 milli...</td>\n",
       "      <td>2377.66</td>\n",
       "      <td>2594.81</td>\n",
       "      <td>2573.16</td>\n",
       "      <td>2391.90</td>\n",
       "      <td>2245.23</td>\n",
       "      <td>1940.39</td>\n",
       "      <td>1761.77</td>\n",
       "      <td>1701.27</td>\n",
       "      <td>1589.79</td>\n",
       "      <td>1479.27</td>\n",
       "      <td>1480.34</td>\n",
       "      <td>1387.08</td>\n",
       "      <td>1276.57</td>\n",
       "      <td>1177.66</td>\n",
       "      <td>1096.96</td>\n",
       "      <td>993.71</td>\n",
       "    </tr>\n",
       "    <tr>\n",
       "      <th>4</th>\n",
       "      <td>Total Electricity Consumption Mining and Washi...</td>\n",
       "      <td>883.79</td>\n",
       "      <td>939.66</td>\n",
       "      <td>955.77</td>\n",
       "      <td>879.14</td>\n",
       "      <td>818.57</td>\n",
       "      <td>751.67</td>\n",
       "      <td>691.13</td>\n",
       "      <td>639.93</td>\n",
       "      <td>600.28</td>\n",
       "      <td>580.45</td>\n",
       "      <td>589.53</td>\n",
       "      <td>582.75</td>\n",
       "      <td>533.99</td>\n",
       "      <td>520.84</td>\n",
       "      <td>467.35</td>\n",
       "      <td>417.16</td>\n",
       "    </tr>\n",
       "  </tbody>\n",
       "</table>\n",
       "</div>"
      ],
      "text/plain": [
       "                                          Indicators      2015      2014  \\\n",
       "0     Total Electricity Consumption(100 million kwh)  58019.97  56383.69   \n",
       "1  Total Electricity Consumption Farming Forestry...   1039.83   1013.39   \n",
       "2  Total Electricity Consumption Industry(100 mil...  41549.99  40802.71   \n",
       "3  Total Electricity Consumption Mining(100 milli...   2377.66   2594.81   \n",
       "4  Total Electricity Consumption Mining and Washi...    883.79    939.66   \n",
       "\n",
       "       2013      2012      2011      2010      2009      2008      2007  \\\n",
       "0  54203.41  49762.64  47000.88  41934.49  37032.14  34541.35  32711.81   \n",
       "1   1026.87   1012.57   1012.90    976.49    939.90    887.05    878.96   \n",
       "2  39236.88  36232.21  34691.55  30871.77  26854.49  25388.63  24290.81   \n",
       "3   2573.16   2391.90   2245.23   1940.39   1761.77   1701.27   1589.79   \n",
       "4    955.77    879.14    818.57    751.67    691.13    639.93    600.28   \n",
       "\n",
       "       2006      2005      2004      2003      2002      2001      2000  \n",
       "0  28587.97  24940.32  21971.37  19031.60  16465.45  14723.46  13472.38  \n",
       "1    827.04    776.33    768.87    693.15    606.23    582.39    532.96  \n",
       "2  21267.74  18521.69  16424.29  14169.68  12402.16  10944.66  10004.62  \n",
       "3   1479.27   1480.34   1387.08   1276.57   1177.66   1096.96    993.71  \n",
       "4    580.45    589.53    582.75    533.99    520.84    467.35    417.16  "
      ]
     },
     "execution_count": 75,
     "metadata": {},
     "output_type": "execute_result"
    }
   ],
   "source": [
    "# Clean the NULL value\n",
    "\n",
    "e_nation = pd.read_csv('annual_data_nation/electricity.csv').dropna(axis=1, how='all').dropna(axis=0, how='any')\n",
    "e_nation.head()"
   ]
  },
  {
   "cell_type": "markdown",
   "metadata": {},
   "source": [
    "   "
   ]
  },
  {
   "cell_type": "markdown",
   "metadata": {},
   "source": [
    "Total electricity consumption from 2000-2015:"
   ]
  },
  {
   "cell_type": "code",
   "execution_count": 264,
   "metadata": {},
   "outputs": [
    {
     "data": {
      "image/png": "[encoded data removed]",
      "text/plain": [
       "<Figure size 432x288 with 1 Axes>"
      ]
     },
     "metadata": {},
     "output_type": "display_data"
    },
    {
     "data": {
      "image/png": "[encoded data removed]",
      "text/plain": [
       "<Figure size 432x288 with 1 Axes>"
      ]
     },
     "metadata": {},
     "output_type": "display_data"
    }
   ],
   "source": [
    "# select data\n",
    "# draw line & bar chart\n",
    "\n",
    "e_nation_total = e_nation[:1].T[1:]\n",
    "e_nation_total.plot()\n",
    "plt.gca().invert_xaxis() \n",
    "plt.legend(loc='upper center', bbox_to_anchor=(1.2,1))\n",
    "\n",
    "e_nation_total.plot(kind='bar')\n",
    "plt.gca().invert_xaxis() \n",
    "plt.legend();"
   ]
  },
  {
   "cell_type": "markdown",
   "metadata": {},
   "source": [
    "From these charts, we can easily find that the electrity consumption in the whole country grows quickly. The consumption has probably increased by 6 times in 20 years. It means electricity consumption promotes rapid growth of the total energy consumption in China."
   ]
  },
  {
   "cell_type": "markdown",
   "metadata": {},
   "source": [
    "           "
   ]
  },
  {
   "cell_type": "markdown",
   "metadata": {},
   "source": [
    "### Electrity consumption of each province."
   ]
  },
  {
   "cell_type": "markdown",
   "metadata": {},
   "source": [
    "Determined that electricity consumption is one of the main influencing factors, maybe aggregating data by each province can find more."
   ]
  },
  {
   "cell_type": "code",
   "execution_count": 197,
   "metadata": {
    "scrolled": false
   },
   "outputs": [
    {
     "data": {
      "text/html": [
       "<div>\n",
       "<style scoped>\n",
       "    .dataframe tbody tr th:only-of-type {\n",
       "        vertical-align: middle;\n",
       "    }\n",
       "\n",
       "    .dataframe tbody tr th {\n",
       "        vertical-align: top;\n",
       "    }\n",
       "\n",
       "    .dataframe thead th {\n",
       "        text-align: right;\n",
       "    }\n",
       "</style>\n",
       "<table border=\"1\" class=\"dataframe\">\n",
       "  <thead>\n",
       "    <tr style=\"text-align: right;\">\n",
       "      <th></th>\n",
       "      <th>Region</th>\n",
       "      <th>2017</th>\n",
       "      <th>2016</th>\n",
       "      <th>2015</th>\n",
       "      <th>2014</th>\n",
       "      <th>2013</th>\n",
       "      <th>2012</th>\n",
       "      <th>2011</th>\n",
       "      <th>2010</th>\n",
       "      <th>2009</th>\n",
       "      <th>2008</th>\n",
       "      <th>2007</th>\n",
       "      <th>2006</th>\n",
       "      <th>2005</th>\n",
       "      <th>2004</th>\n",
       "      <th>2003</th>\n",
       "      <th>2002</th>\n",
       "      <th>2001</th>\n",
       "      <th>2000</th>\n",
       "      <th>1999</th>\n",
       "    </tr>\n",
       "  </thead>\n",
       "  <tbody>\n",
       "    <tr>\n",
       "      <th>0</th>\n",
       "      <td>Guangdong</td>\n",
       "      <td>5958.97</td>\n",
       "      <td>5610.13</td>\n",
       "      <td>5310.69</td>\n",
       "      <td>5235.23</td>\n",
       "      <td>4830.1</td>\n",
       "      <td>4619.4</td>\n",
       "      <td>4399.02</td>\n",
       "      <td>4060.13</td>\n",
       "      <td>3609.64</td>\n",
       "      <td>3504.82</td>\n",
       "      <td>3394.05</td>\n",
       "      <td>3004.03</td>\n",
       "      <td>2673.56</td>\n",
       "      <td>2387.14</td>\n",
       "      <td>2031.29</td>\n",
       "      <td>1687.83</td>\n",
       "      <td>1458.42</td>\n",
       "      <td>1334.58</td>\n",
       "      <td>1086.24</td>\n",
       "    </tr>\n",
       "    <tr>\n",
       "      <th>1</th>\n",
       "      <td>Jiangsu</td>\n",
       "      <td>5807.89</td>\n",
       "      <td>5458.95</td>\n",
       "      <td>5114.70</td>\n",
       "      <td>5012.54</td>\n",
       "      <td>4956.6</td>\n",
       "      <td>4580.9</td>\n",
       "      <td>4281.62</td>\n",
       "      <td>3864.37</td>\n",
       "      <td>3313.99</td>\n",
       "      <td>3118.32</td>\n",
       "      <td>2952.02</td>\n",
       "      <td>2569.75</td>\n",
       "      <td>2193.45</td>\n",
       "      <td>1820.08</td>\n",
       "      <td>1505.13</td>\n",
       "      <td>1245.14</td>\n",
       "      <td>1078.44</td>\n",
       "      <td>971.34</td>\n",
       "      <td>848.74</td>\n",
       "    </tr>\n",
       "    <tr>\n",
       "      <th>2</th>\n",
       "      <td>Shandong</td>\n",
       "      <td>5430.16</td>\n",
       "      <td>5390.75</td>\n",
       "      <td>5117.05</td>\n",
       "      <td>4223.49</td>\n",
       "      <td>4083.1</td>\n",
       "      <td>3794.6</td>\n",
       "      <td>3635.26</td>\n",
       "      <td>3298.46</td>\n",
       "      <td>2941.07</td>\n",
       "      <td>2726.97</td>\n",
       "      <td>2596.05</td>\n",
       "      <td>2272.07</td>\n",
       "      <td>1911.61</td>\n",
       "      <td>1693.71</td>\n",
       "      <td>1395.72</td>\n",
       "      <td>1241.74</td>\n",
       "      <td>1104.53</td>\n",
       "      <td>1000.71</td>\n",
       "      <td>805.47</td>\n",
       "    </tr>\n",
       "    <tr>\n",
       "      <th>3</th>\n",
       "      <td>Zhejiang</td>\n",
       "      <td>4192.63</td>\n",
       "      <td>3873.19</td>\n",
       "      <td>3553.90</td>\n",
       "      <td>3506.39</td>\n",
       "      <td>3453.1</td>\n",
       "      <td>3210.6</td>\n",
       "      <td>3116.91</td>\n",
       "      <td>2820.93</td>\n",
       "      <td>2471.44</td>\n",
       "      <td>2322.87</td>\n",
       "      <td>2189.37</td>\n",
       "      <td>1909.23</td>\n",
       "      <td>1642.31</td>\n",
       "      <td>1419.53</td>\n",
       "      <td>1240.35</td>\n",
       "      <td>1010.72</td>\n",
       "      <td>848.40</td>\n",
       "      <td>738.05</td>\n",
       "      <td>611.67</td>\n",
       "    </tr>\n",
       "    <tr>\n",
       "      <th>4</th>\n",
       "      <td>Hebei</td>\n",
       "      <td>3441.74</td>\n",
       "      <td>3264.52</td>\n",
       "      <td>3175.66</td>\n",
       "      <td>3314.11</td>\n",
       "      <td>3251.2</td>\n",
       "      <td>3077.7</td>\n",
       "      <td>2984.90</td>\n",
       "      <td>2691.52</td>\n",
       "      <td>2343.85</td>\n",
       "      <td>2095.02</td>\n",
       "      <td>2013.67</td>\n",
       "      <td>1734.83</td>\n",
       "      <td>1501.92</td>\n",
       "      <td>1291.41</td>\n",
       "      <td>1098.99</td>\n",
       "      <td>965.83</td>\n",
       "      <td>867.55</td>\n",
       "      <td>809.34</td>\n",
       "      <td>745.72</td>\n",
       "    </tr>\n",
       "    <tr>\n",
       "      <th>5</th>\n",
       "      <td>Henan</td>\n",
       "      <td>3166.17</td>\n",
       "      <td>2989.15</td>\n",
       "      <td>2879.62</td>\n",
       "      <td>2919.57</td>\n",
       "      <td>2899.2</td>\n",
       "      <td>2747.7</td>\n",
       "      <td>2659.14</td>\n",
       "      <td>2353.96</td>\n",
       "      <td>2081.38</td>\n",
       "      <td>1970.77</td>\n",
       "      <td>1808.00</td>\n",
       "      <td>1523.50</td>\n",
       "      <td>1352.74</td>\n",
       "      <td>1299.63</td>\n",
       "      <td>1054.64</td>\n",
       "      <td>916.25</td>\n",
       "      <td>808.41</td>\n",
       "      <td>718.52</td>\n",
       "      <td>672.09</td>\n",
       "    </tr>\n",
       "    <tr>\n",
       "      <th>6</th>\n",
       "      <td>Inner Mongolia</td>\n",
       "      <td>2891.87</td>\n",
       "      <td>2605.03</td>\n",
       "      <td>2542.87</td>\n",
       "      <td>2416.74</td>\n",
       "      <td>2181.9</td>\n",
       "      <td>2016.8</td>\n",
       "      <td>1864.07</td>\n",
       "      <td>1536.83</td>\n",
       "      <td>1287.93</td>\n",
       "      <td>1220.57</td>\n",
       "      <td>1160.21</td>\n",
       "      <td>884.91</td>\n",
       "      <td>667.72</td>\n",
       "      <td>535.58</td>\n",
       "      <td>406.62</td>\n",
       "      <td>320.43</td>\n",
       "      <td>280.89</td>\n",
       "      <td>254.21</td>\n",
       "      <td>236.77</td>\n",
       "    </tr>\n",
       "    <tr>\n",
       "      <th>7</th>\n",
       "      <td>Sichuan</td>\n",
       "      <td>2205.18</td>\n",
       "      <td>2101.02</td>\n",
       "      <td>1992.40</td>\n",
       "      <td>2014.79</td>\n",
       "      <td>1949.0</td>\n",
       "      <td>1830.7</td>\n",
       "      <td>1751.44</td>\n",
       "      <td>1549.03</td>\n",
       "      <td>1324.61</td>\n",
       "      <td>1210.13</td>\n",
       "      <td>1177.51</td>\n",
       "      <td>1059.44</td>\n",
       "      <td>942.59</td>\n",
       "      <td>857.02</td>\n",
       "      <td>758.79</td>\n",
       "      <td>660.51</td>\n",
       "      <td>589.57</td>\n",
       "      <td>521.23</td>\n",
       "      <td>462.26</td>\n",
       "    </tr>\n",
       "    <tr>\n",
       "      <th>8</th>\n",
       "      <td>Liaoning</td>\n",
       "      <td>2135.50</td>\n",
       "      <td>2037.40</td>\n",
       "      <td>1984.89</td>\n",
       "      <td>2038.73</td>\n",
       "      <td>2008.5</td>\n",
       "      <td>1899.9</td>\n",
       "      <td>1861.53</td>\n",
       "      <td>1715.26</td>\n",
       "      <td>1488.17</td>\n",
       "      <td>1412.00</td>\n",
       "      <td>1359.51</td>\n",
       "      <td>1228.27</td>\n",
       "      <td>1110.56</td>\n",
       "      <td>1058.10</td>\n",
       "      <td>886.88</td>\n",
       "      <td>809.45</td>\n",
       "      <td>764.77</td>\n",
       "      <td>748.89</td>\n",
       "      <td>756.11</td>\n",
       "    </tr>\n",
       "    <tr>\n",
       "      <th>9</th>\n",
       "      <td>Fujian</td>\n",
       "      <td>2112.72</td>\n",
       "      <td>1968.58</td>\n",
       "      <td>1851.86</td>\n",
       "      <td>1855.79</td>\n",
       "      <td>1700.7</td>\n",
       "      <td>1579.5</td>\n",
       "      <td>1515.86</td>\n",
       "      <td>1315.09</td>\n",
       "      <td>1134.92</td>\n",
       "      <td>1073.55</td>\n",
       "      <td>1000.33</td>\n",
       "      <td>866.84</td>\n",
       "      <td>756.59</td>\n",
       "      <td>664.35</td>\n",
       "      <td>585.35</td>\n",
       "      <td>496.83</td>\n",
       "      <td>439.19</td>\n",
       "      <td>401.51</td>\n",
       "      <td>355.26</td>\n",
       "    </tr>\n",
       "  </tbody>\n",
       "</table>\n",
       "</div>"
      ],
      "text/plain": [
       "           Region     2017     2016     2015     2014    2013    2012  \\\n",
       "0       Guangdong  5958.97  5610.13  5310.69  5235.23  4830.1  4619.4   \n",
       "1         Jiangsu  5807.89  5458.95  5114.70  5012.54  4956.6  4580.9   \n",
       "2        Shandong  5430.16  5390.75  5117.05  4223.49  4083.1  3794.6   \n",
       "3        Zhejiang  4192.63  3873.19  3553.90  3506.39  3453.1  3210.6   \n",
       "4           Hebei  3441.74  3264.52  3175.66  3314.11  3251.2  3077.7   \n",
       "5           Henan  3166.17  2989.15  2879.62  2919.57  2899.2  2747.7   \n",
       "6  Inner Mongolia  2891.87  2605.03  2542.87  2416.74  2181.9  2016.8   \n",
       "7         Sichuan  2205.18  2101.02  1992.40  2014.79  1949.0  1830.7   \n",
       "8        Liaoning  2135.50  2037.40  1984.89  2038.73  2008.5  1899.9   \n",
       "9          Fujian  2112.72  1968.58  1851.86  1855.79  1700.7  1579.5   \n",
       "\n",
       "      2011     2010     2009     2008     2007     2006     2005     2004  \\\n",
       "0  4399.02  4060.13  3609.64  3504.82  3394.05  3004.03  2673.56  2387.14   \n",
       "1  4281.62  3864.37  3313.99  3118.32  2952.02  2569.75  2193.45  1820.08   \n",
       "2  3635.26  3298.46  2941.07  2726.97  2596.05  2272.07  1911.61  1693.71   \n",
       "3  3116.91  2820.93  2471.44  2322.87  2189.37  1909.23  1642.31  1419.53   \n",
       "4  2984.90  2691.52  2343.85  2095.02  2013.67  1734.83  1501.92  1291.41   \n",
       "5  2659.14  2353.96  2081.38  1970.77  1808.00  1523.50  1352.74  1299.63   \n",
       "6  1864.07  1536.83  1287.93  1220.57  1160.21   884.91   667.72   535.58   \n",
       "7  1751.44  1549.03  1324.61  1210.13  1177.51  1059.44   942.59   857.02   \n",
       "8  1861.53  1715.26  1488.17  1412.00  1359.51  1228.27  1110.56  1058.10   \n",
       "9  1515.86  1315.09  1134.92  1073.55  1000.33   866.84   756.59   664.35   \n",
       "\n",
       "      2003     2002     2001     2000     1999  \n",
       "0  2031.29  1687.83  1458.42  1334.58  1086.24  \n",
       "1  1505.13  1245.14  1078.44   971.34   848.74  \n",
       "2  1395.72  1241.74  1104.53  1000.71   805.47  \n",
       "3  1240.35  1010.72   848.40   738.05   611.67  \n",
       "4  1098.99   965.83   867.55   809.34   745.72  \n",
       "5  1054.64   916.25   808.41   718.52   672.09  \n",
       "6   406.62   320.43   280.89   254.21   236.77  \n",
       "7   758.79   660.51   589.57   521.23   462.26  \n",
       "8   886.88   809.45   764.77   748.89   756.11  \n",
       "9   585.35   496.83   439.19   401.51   355.26  "
      ]
     },
     "execution_count": 197,
     "metadata": {},
     "output_type": "execute_result"
    }
   ],
   "source": [
    "#Upload the data of electricity consumption from provinces\n",
    "\n",
    "e_province = pd.read_csv('AnnualbyProvinceElectricity.csv').dropna(axis=1, how='all').dropna(axis=0, how='any')\n",
    "e_province.head(10)"
   ]
  },
  {
   "cell_type": "markdown",
   "metadata": {},
   "source": [
    "   "
   ]
  },
  {
   "cell_type": "markdown",
   "metadata": {},
   "source": [
    "It is obviously to know energy consumption have differences between different region. But what about the interval of the amount of consumption. `Joint plot` can tell us where these data focus in."
   ]
  },
  {
   "cell_type": "markdown",
   "metadata": {},
   "source": [
    "      "
   ]
  },
  {
   "cell_type": "code",
   "execution_count": 249,
   "metadata": {},
   "outputs": [
    {
     "data": {
      "text/plain": [
       "<seaborn.axisgrid.JointGrid at 0x1a306710f0>"
      ]
     },
     "execution_count": 249,
     "metadata": {},
     "output_type": "execute_result"
    },
    {
     "data": {
      "image/png": "[encoded data removed]",
      "text/plain": [
       "<Figure size 432x432 with 3 Axes>"
      ]
     },
     "metadata": {},
     "output_type": "display_data"
    }
   ],
   "source": [
    "sns.set(style = \"ticks\")\n",
    "ep_2017 = e_province[['2017']]\n",
    "sns.jointplot(ep_2017,ep_2017,color=\"#4CB391\")"
   ]
  },
  {
   "cell_type": "markdown",
   "metadata": {},
   "source": [
    "The main focus of these figures are 1000-2500 but the highest one almost achieves 6000."
   ]
  },
  {
   "cell_type": "code",
   "execution_count": 250,
   "metadata": {
    "scrolled": true
   },
   "outputs": [
    {
     "data": {
      "text/plain": [
       "<matplotlib.legend.Legend at 0x1a3056b588>"
      ]
     },
     "execution_count": 250,
     "metadata": {},
     "output_type": "execute_result"
    },
    {
     "data": {
      "image/png": "[encoded data removed]",
      "text/plain": [
       "<Figure size 432x288 with 1 Axes>"
      ]
     },
     "metadata": {},
     "output_type": "display_data"
    }
   ],
   "source": [
    "e_province.plot()\n",
    "plt.gca().invert_xaxis() \n",
    "plt.title(\"Annual Electricity Consumption of Each Province\")\n",
    "plt.ylabel(\"Consumption(100 million kwh)\")\n",
    "plt.xlabel(\"Province number\")\n",
    "plt.legend(loc='upper center', bbox_to_anchor=(1.2,1.2))"
   ]
  },
  {
   "cell_type": "markdown",
   "metadata": {},
   "source": [
    "We can easily find that the consumption of top10 province grows faster that others. <br>\n",
    "Next part is about the top 10 provinces by electricity consumption."
   ]
  },
  {
   "cell_type": "markdown",
   "metadata": {},
   "source": [
    "      "
   ]
  },
  {
   "cell_type": "code",
   "execution_count": 251,
   "metadata": {},
   "outputs": [
    {
     "data": {
      "text/html": [
       "<div>\n",
       "<style scoped>\n",
       "    .dataframe tbody tr th:only-of-type {\n",
       "        vertical-align: middle;\n",
       "    }\n",
       "\n",
       "    .dataframe tbody tr th {\n",
       "        vertical-align: top;\n",
       "    }\n",
       "\n",
       "    .dataframe thead th {\n",
       "        text-align: right;\n",
       "    }\n",
       "</style>\n",
       "<table border=\"1\" class=\"dataframe\">\n",
       "  <thead>\n",
       "    <tr style=\"text-align: right;\">\n",
       "      <th></th>\n",
       "      <th>2017</th>\n",
       "      <th>2016</th>\n",
       "      <th>2015</th>\n",
       "      <th>2014</th>\n",
       "      <th>2013</th>\n",
       "      <th>1999</th>\n",
       "    </tr>\n",
       "  </thead>\n",
       "  <tbody>\n",
       "    <tr>\n",
       "      <th>0</th>\n",
       "      <td>5958.97</td>\n",
       "      <td>5610.13</td>\n",
       "      <td>5310.69</td>\n",
       "      <td>5235.23</td>\n",
       "      <td>4830.1</td>\n",
       "      <td>1086.24</td>\n",
       "    </tr>\n",
       "    <tr>\n",
       "      <th>1</th>\n",
       "      <td>5807.89</td>\n",
       "      <td>5458.95</td>\n",
       "      <td>5114.70</td>\n",
       "      <td>5012.54</td>\n",
       "      <td>4956.6</td>\n",
       "      <td>848.74</td>\n",
       "    </tr>\n",
       "    <tr>\n",
       "      <th>2</th>\n",
       "      <td>5430.16</td>\n",
       "      <td>5390.75</td>\n",
       "      <td>5117.05</td>\n",
       "      <td>4223.49</td>\n",
       "      <td>4083.1</td>\n",
       "      <td>805.47</td>\n",
       "    </tr>\n",
       "    <tr>\n",
       "      <th>3</th>\n",
       "      <td>4192.63</td>\n",
       "      <td>3873.19</td>\n",
       "      <td>3553.90</td>\n",
       "      <td>3506.39</td>\n",
       "      <td>3453.1</td>\n",
       "      <td>611.67</td>\n",
       "    </tr>\n",
       "    <tr>\n",
       "      <th>4</th>\n",
       "      <td>3441.74</td>\n",
       "      <td>3264.52</td>\n",
       "      <td>3175.66</td>\n",
       "      <td>3314.11</td>\n",
       "      <td>3251.2</td>\n",
       "      <td>745.72</td>\n",
       "    </tr>\n",
       "    <tr>\n",
       "      <th>5</th>\n",
       "      <td>3166.17</td>\n",
       "      <td>2989.15</td>\n",
       "      <td>2879.62</td>\n",
       "      <td>2919.57</td>\n",
       "      <td>2899.2</td>\n",
       "      <td>672.09</td>\n",
       "    </tr>\n",
       "    <tr>\n",
       "      <th>6</th>\n",
       "      <td>2891.87</td>\n",
       "      <td>2605.03</td>\n",
       "      <td>2542.87</td>\n",
       "      <td>2416.74</td>\n",
       "      <td>2181.9</td>\n",
       "      <td>236.77</td>\n",
       "    </tr>\n",
       "    <tr>\n",
       "      <th>7</th>\n",
       "      <td>2205.18</td>\n",
       "      <td>2101.02</td>\n",
       "      <td>1992.40</td>\n",
       "      <td>2014.79</td>\n",
       "      <td>1949.0</td>\n",
       "      <td>462.26</td>\n",
       "    </tr>\n",
       "    <tr>\n",
       "      <th>8</th>\n",
       "      <td>2135.50</td>\n",
       "      <td>2037.40</td>\n",
       "      <td>1984.89</td>\n",
       "      <td>2038.73</td>\n",
       "      <td>2008.5</td>\n",
       "      <td>756.11</td>\n",
       "    </tr>\n",
       "    <tr>\n",
       "      <th>9</th>\n",
       "      <td>2112.72</td>\n",
       "      <td>1968.58</td>\n",
       "      <td>1851.86</td>\n",
       "      <td>1855.79</td>\n",
       "      <td>1700.7</td>\n",
       "      <td>355.26</td>\n",
       "    </tr>\n",
       "  </tbody>\n",
       "</table>\n",
       "</div>"
      ],
      "text/plain": [
       "      2017     2016     2015     2014    2013     1999\n",
       "0  5958.97  5610.13  5310.69  5235.23  4830.1  1086.24\n",
       "1  5807.89  5458.95  5114.70  5012.54  4956.6   848.74\n",
       "2  5430.16  5390.75  5117.05  4223.49  4083.1   805.47\n",
       "3  4192.63  3873.19  3553.90  3506.39  3453.1   611.67\n",
       "4  3441.74  3264.52  3175.66  3314.11  3251.2   745.72\n",
       "5  3166.17  2989.15  2879.62  2919.57  2899.2   672.09\n",
       "6  2891.87  2605.03  2542.87  2416.74  2181.9   236.77\n",
       "7  2205.18  2101.02  1992.40  2014.79  1949.0   462.26\n",
       "8  2135.50  2037.40  1984.89  2038.73  2008.5   756.11\n",
       "9  2112.72  1968.58  1851.86  1855.79  1700.7   355.26"
      ]
     },
     "execution_count": 251,
     "metadata": {},
     "output_type": "execute_result"
    }
   ],
   "source": [
    "#Select data\n",
    "\n",
    "e_province_top10 = e_province[:10][['2017', '2016', '2015', '2014', '2013', '1999']]\n",
    "e_province_top10"
   ]
  },
  {
   "cell_type": "code",
   "execution_count": 252,
   "metadata": {
    "scrolled": false
   },
   "outputs": [
    {
     "data": {
      "text/plain": [
       "<matplotlib.legend.Legend at 0x1a30a00128>"
      ]
     },
     "execution_count": 252,
     "metadata": {},
     "output_type": "execute_result"
    },
    {
     "data": {
      "image/png": "[encoded data removed]",
      "text/plain": [
       "<Figure size 432x288 with 1 Axes>"
      ]
     },
     "metadata": {},
     "output_type": "display_data"
    }
   ],
   "source": [
    "# view the data by chart\n",
    "\n",
    "e_province_top10.plot()\n",
    "plt.gca().invert_xaxis() \n",
    "plt.title(\"Electricity Consumption by year(top 10 cities)\")\n",
    "plt.ylabel(\"Consumption(100 million kwh)\")\n",
    "plt.xlabel(\"Province number\")\n",
    "plt.legend(loc='upper center', bbox_to_anchor=(1.2,1))"
   ]
  },
  {
   "cell_type": "markdown",
   "metadata": {},
   "source": [
    "This chart shows us that these provinces still have a big difference between themselves though each of them is a part of the top10. Actually, it is not very clear. We can draw a heat map soon."
   ]
  },
  {
   "cell_type": "markdown",
   "metadata": {},
   "source": [
    "    "
   ]
  },
  {
   "cell_type": "code",
   "execution_count": 253,
   "metadata": {},
   "outputs": [],
   "source": [
    "e10 = e_province[:10].T[1:6].T.values"
   ]
  },
  {
   "cell_type": "code",
   "execution_count": 254,
   "metadata": {
    "slideshow": {
     "slide_type": "-"
    }
   },
   "outputs": [],
   "source": [
    "e10 =np.array([[5958.97, 5610.13, 5310.69, 5235.23, 4830.1],\n",
    "       [5807.89, 5458.95, 5114.7, 5012.54, 4956.6],\n",
    "       [5430.16, 5390.75, 5117.05, 4223.49, 4083.1],\n",
    "       [4192.63, 3873.19, 3553.9, 3506.39, 3453.1],\n",
    "       [3441.74, 3264.52, 3175.66, 3314.11, 3251.2],\n",
    "       [3166.17, 2989.15, 2879.62, 2919.57, 2899.2],\n",
    "       [2891.87, 2605.03, 2542.87, 2416.74, 2181.9],\n",
    "       [2205.18, 2101.02, 1992.4, 2014.79, 1949.0],\n",
    "       [2135.5, 2037.4, 1984.89, 2038.73, 2008.5],\n",
    "       [2112.72, 1968.58, 1851.86, 1855.79, 1700.7]])"
   ]
  },
  {
   "cell_type": "code",
   "execution_count": 273,
   "metadata": {},
   "outputs": [
    {
     "data": {
      "text/plain": [
       "<matplotlib.axes._subplots.AxesSubplot at 0x1a312d1470>"
      ]
     },
     "execution_count": 273,
     "metadata": {},
     "output_type": "execute_result"
    },
    {
     "data": {
      "image/png": "[encoded data removed]",
      "text/plain": [
       "<Figure size 432x288 with 2 Axes>"
      ]
     },
     "metadata": {},
     "output_type": "display_data"
    }
   ],
   "source": [
    "sns.heatmap(e10, xticklabels=('2017', '2016', '2015', '2014', '2013'),\n",
    "            yticklabels=('Guangdong', 'Jiangsu', 'Shandong', 'Zhejiang', 'Hebei', 'Henan', 'Inner Mongolia', 'Sichuan', 'Liaoning', 'Fujian'))"
   ]
  },
  {
   "cell_type": "markdown",
   "metadata": {},
   "source": [
    "Through the color of first column in heat map, a big diversity is showed between Guangdong and Fujian. We can assume that this diversity  is create by economic strength."
   ]
  },
  {
   "cell_type": "markdown",
   "metadata": {},
   "source": [
    "      "
   ]
  },
  {
   "cell_type": "markdown",
   "metadata": {},
   "source": [
    "### Electricity Consumption of Municipality"
   ]
  },
  {
   "cell_type": "markdown",
   "metadata": {},
   "source": [
    "After visited the electricity consumption of different provinces, big cities also can tell us some information. In this time, I choose the capital and 3 municipalities in China, which are Beijing, Tianjin, Shanghai and Chongqing."
   ]
  },
  {
   "cell_type": "code",
   "execution_count": 256,
   "metadata": {},
   "outputs": [
    {
     "data": {
      "text/plain": [
       "([22], [16], [26], [23])"
      ]
     },
     "execution_count": 256,
     "metadata": {},
     "output_type": "execute_result"
    }
   ],
   "source": [
    "# Find municipalities' total electricity consumption in \"e_province\"\n",
    "\n",
    "b = e_province[(e_province.Region=='Beijing')].index.tolist()\n",
    "s = e_province[(e_province.Region=='Shanghai')].index.tolist()\n",
    "t = e_province[(e_province.Region=='Tianjin')].index.tolist()\n",
    "c = e_province[(e_province.Region=='Chongqing')].index.tolist()\n",
    "\n",
    "b,s,t,c"
   ]
  },
  {
   "cell_type": "markdown",
   "metadata": {},
   "source": [
    "From the sort number of `e_province`:   \n",
    "*No.16* is Shanghai   \n",
    "*No.22* is Beijing   \n",
    "*No.23* is Chongqing   \n",
    "*No.26* is Tianjin   \n",
    "   \n",
    "   "
   ]
  },
  {
   "cell_type": "code",
   "execution_count": 257,
   "metadata": {},
   "outputs": [
    {
     "data": {
      "text/plain": [
       "<matplotlib.legend.Legend at 0x1a2eb57e48>"
      ]
     },
     "execution_count": 257,
     "metadata": {},
     "output_type": "execute_result"
    },
    {
     "data": {
      "image/png": "[encoded data removed]",
      "text/plain": [
       "<Figure size 432x288 with 1 Axes>"
      ]
     },
     "metadata": {},
     "output_type": "display_data"
    }
   ],
   "source": [
    "# get the data from sort\n",
    "municipality_total = e_province.loc[[16,22,26,23]].T[1:]\n",
    "\n",
    "# draw a chart \n",
    "municipality_total.plot()\n",
    "plt.gca().invert_xaxis() \n",
    "plt.title(\"Electricity Consumption by year(municipality)\")\n",
    "plt.ylabel(\"Consumption(100 million kwh)\")\n",
    "plt.xlabel(\"municipality number\")\n",
    "plt.legend(loc='upper center', bbox_to_anchor=(1.2,1))"
   ]
  },
  {
   "cell_type": "markdown",
   "metadata": {},
   "source": [
    "The disparity between big citys also is large. Then we can view other energy consumption these cities."
   ]
  },
  {
   "cell_type": "markdown",
   "metadata": {},
   "source": [
    "   "
   ]
  },
  {
   "cell_type": "code",
   "execution_count": 270,
   "metadata": {
    "scrolled": false
   },
   "outputs": [
    {
     "name": "stderr",
     "output_type": "stream",
     "text": [
      "/anaconda3/lib/python3.7/site-packages/ipykernel_launcher.py:7: FutureWarning: Sorting because non-concatenation axis is not aligned. A future version\n",
      "of pandas will change to not sort by default.\n",
      "\n",
      "To accept the future behavior, pass 'sort=False'.\n",
      "\n",
      "To retain the current behavior and silence the warning, pass 'sort=True'.\n",
      "\n",
      "  import sys\n"
     ]
    },
    {
     "data": {
      "text/html": [
       "<div>\n",
       "<style scoped>\n",
       "    .dataframe tbody tr th:only-of-type {\n",
       "        vertical-align: middle;\n",
       "    }\n",
       "\n",
       "    .dataframe tbody tr th {\n",
       "        vertical-align: top;\n",
       "    }\n",
       "\n",
       "    .dataframe thead th {\n",
       "        text-align: right;\n",
       "    }\n",
       "</style>\n",
       "<table border=\"1\" class=\"dataframe\">\n",
       "  <thead>\n",
       "    <tr style=\"text-align: right;\">\n",
       "      <th></th>\n",
       "      <th>1999</th>\n",
       "      <th>2000</th>\n",
       "      <th>2001</th>\n",
       "      <th>2002</th>\n",
       "      <th>2003</th>\n",
       "      <th>2004</th>\n",
       "      <th>2005</th>\n",
       "      <th>2006</th>\n",
       "      <th>2007</th>\n",
       "      <th>2008</th>\n",
       "      <th>2009</th>\n",
       "      <th>2010</th>\n",
       "      <th>2011</th>\n",
       "      <th>2012</th>\n",
       "      <th>2013</th>\n",
       "      <th>2014</th>\n",
       "      <th>2015</th>\n",
       "      <th>2016</th>\n",
       "      <th>Indicators</th>\n",
       "      <th>city</th>\n",
       "    </tr>\n",
       "  </thead>\n",
       "  <tbody>\n",
       "    <tr>\n",
       "      <th>0</th>\n",
       "      <td>2651.00</td>\n",
       "      <td>2719.78</td>\n",
       "      <td>2675.00</td>\n",
       "      <td>2531.0</td>\n",
       "      <td>2674.02</td>\n",
       "      <td>2939.41</td>\n",
       "      <td>3068.97</td>\n",
       "      <td>3055.67</td>\n",
       "      <td>2984.67</td>\n",
       "      <td>2747.73</td>\n",
       "      <td>2664.70</td>\n",
       "      <td>2634.62</td>\n",
       "      <td>2366.00</td>\n",
       "      <td>2270.00</td>\n",
       "      <td>2019.23</td>\n",
       "      <td>1736.54</td>\n",
       "      <td>1165.18</td>\n",
       "      <td>847.62</td>\n",
       "      <td>Consumption of Coal(10000 tons)</td>\n",
       "      <td>Beijing</td>\n",
       "    </tr>\n",
       "    <tr>\n",
       "      <th>1</th>\n",
       "      <td>441.30</td>\n",
       "      <td>449.08</td>\n",
       "      <td>429.62</td>\n",
       "      <td>378.0</td>\n",
       "      <td>438.25</td>\n",
       "      <td>455.73</td>\n",
       "      <td>397.40</td>\n",
       "      <td>348.62</td>\n",
       "      <td>358.19</td>\n",
       "      <td>232.87</td>\n",
       "      <td>211.97</td>\n",
       "      <td>220.45</td>\n",
       "      <td>33.28</td>\n",
       "      <td>32.27</td>\n",
       "      <td>0.79</td>\n",
       "      <td>0.64</td>\n",
       "      <td>0.44</td>\n",
       "      <td>0.21</td>\n",
       "      <td>Consumption of Coke(10000 tons)</td>\n",
       "      <td>Beijing</td>\n",
       "    </tr>\n",
       "    <tr>\n",
       "      <th>2</th>\n",
       "      <td>724.05</td>\n",
       "      <td>754.71</td>\n",
       "      <td>700.50</td>\n",
       "      <td>748.0</td>\n",
       "      <td>726.68</td>\n",
       "      <td>809.35</td>\n",
       "      <td>799.60</td>\n",
       "      <td>796.12</td>\n",
       "      <td>950.91</td>\n",
       "      <td>1116.76</td>\n",
       "      <td>1162.93</td>\n",
       "      <td>1116.29</td>\n",
       "      <td>1105.08</td>\n",
       "      <td>1075.77</td>\n",
       "      <td>870.92</td>\n",
       "      <td>1034.62</td>\n",
       "      <td>991.54</td>\n",
       "      <td>821.00</td>\n",
       "      <td>Consumption of Crude Oil(10000 tons)</td>\n",
       "      <td>Beijing</td>\n",
       "    </tr>\n",
       "    <tr>\n",
       "      <th>3</th>\n",
       "      <td>92.70</td>\n",
       "      <td>106.60</td>\n",
       "      <td>138.69</td>\n",
       "      <td>152.0</td>\n",
       "      <td>165.22</td>\n",
       "      <td>198.39</td>\n",
       "      <td>235.23</td>\n",
       "      <td>278.16</td>\n",
       "      <td>324.72</td>\n",
       "      <td>340.92</td>\n",
       "      <td>363.61</td>\n",
       "      <td>371.53</td>\n",
       "      <td>389.79</td>\n",
       "      <td>415.90</td>\n",
       "      <td>423.61</td>\n",
       "      <td>440.62</td>\n",
       "      <td>462.75</td>\n",
       "      <td>470.37</td>\n",
       "      <td>Consumption of Gasoline(10000 tons)</td>\n",
       "      <td>Beijing</td>\n",
       "    </tr>\n",
       "    <tr>\n",
       "      <th>4</th>\n",
       "      <td>110.38</td>\n",
       "      <td>117.60</td>\n",
       "      <td>129.25</td>\n",
       "      <td>145.0</td>\n",
       "      <td>137.94</td>\n",
       "      <td>182.82</td>\n",
       "      <td>189.36</td>\n",
       "      <td>233.86</td>\n",
       "      <td>277.10</td>\n",
       "      <td>318.39</td>\n",
       "      <td>341.93</td>\n",
       "      <td>392.63</td>\n",
       "      <td>419.88</td>\n",
       "      <td>443.33</td>\n",
       "      <td>477.06</td>\n",
       "      <td>507.58</td>\n",
       "      <td>544.38</td>\n",
       "      <td>594.27</td>\n",
       "      <td>Consumption of Kerosene(10000 tons)</td>\n",
       "      <td>Beijing</td>\n",
       "    </tr>\n",
       "  </tbody>\n",
       "</table>\n",
       "</div>"
      ],
      "text/plain": [
       "      1999     2000     2001    2002     2003     2004     2005     2006  \\\n",
       "0  2651.00  2719.78  2675.00  2531.0  2674.02  2939.41  3068.97  3055.67   \n",
       "1   441.30   449.08   429.62   378.0   438.25   455.73   397.40   348.62   \n",
       "2   724.05   754.71   700.50   748.0   726.68   809.35   799.60   796.12   \n",
       "3    92.70   106.60   138.69   152.0   165.22   198.39   235.23   278.16   \n",
       "4   110.38   117.60   129.25   145.0   137.94   182.82   189.36   233.86   \n",
       "\n",
       "      2007     2008     2009     2010     2011     2012     2013     2014  \\\n",
       "0  2984.67  2747.73  2664.70  2634.62  2366.00  2270.00  2019.23  1736.54   \n",
       "1   358.19   232.87   211.97   220.45    33.28    32.27     0.79     0.64   \n",
       "2   950.91  1116.76  1162.93  1116.29  1105.08  1075.77   870.92  1034.62   \n",
       "3   324.72   340.92   363.61   371.53   389.79   415.90   423.61   440.62   \n",
       "4   277.10   318.39   341.93   392.63   419.88   443.33   477.06   507.58   \n",
       "\n",
       "      2015    2016                            Indicators     city  \n",
       "0  1165.18  847.62       Consumption of Coal(10000 tons)  Beijing  \n",
       "1     0.44    0.21       Consumption of Coke(10000 tons)  Beijing  \n",
       "2   991.54  821.00  Consumption of Crude Oil(10000 tons)  Beijing  \n",
       "3   462.75  470.37   Consumption of Gasoline(10000 tons)  Beijing  \n",
       "4   544.38  594.27   Consumption of Kerosene(10000 tons)  Beijing  "
      ]
     },
     "execution_count": 270,
     "metadata": {},
     "output_type": "execute_result"
    }
   ],
   "source": [
    "Beijing = pd.read_csv('Beijing.csv')\n",
    "Shanghai = pd.read_csv('Shanghai.csv')\n",
    "Tianjin = pd.read_csv('Tianjin.csv')\n",
    "Chongqing = pd.read_csv('Chongqing.csv')\n",
    "\n",
    "frames = [Beijing, Shanghai, Chongqing, Tianjin]\n",
    "municipality = pd.concat(frames).dropna(thresh = 5).dropna(axis=1, how='any')\n",
    "municipality.head()"
   ]
  },
  {
   "cell_type": "markdown",
   "metadata": {},
   "source": [
    "To find the their consumption's diversity, we can view them in following charts."
   ]
  },
  {
   "cell_type": "code",
   "execution_count": 271,
   "metadata": {},
   "outputs": [
    {
     "data": {
      "text/plain": [
       "<matplotlib.axes._subplots.AxesSubplot at 0x1a30f73c18>"
      ]
     },
     "execution_count": 271,
     "metadata": {},
     "output_type": "execute_result"
    },
    {
     "data": {
      "image/png": "[encoded data removed]",
      "text/plain": [
       "<Figure size 432x288 with 1 Axes>"
      ]
     },
     "metadata": {},
     "output_type": "display_data"
    }
   ],
   "source": [
    "sns.set(style=\"whitegrid\")\n",
    "\n",
    "mean = pd.DataFrame(municipality.mean(1))\n",
    "mean.columns = ['Mean']\n",
    "municipality = municipality.join(mean)\n",
    "sns.boxplot(x=\"city\", y = municipality[\"Mean\"], data = municipality, palette = \"Set3\")"
   ]
  },
  {
   "cell_type": "code",
   "execution_count": 265,
   "metadata": {},
   "outputs": [
    {
     "data": {
      "text/plain": [
       "<matplotlib.axes._subplots.AxesSubplot at 0x1a30ebde80>"
      ]
     },
     "execution_count": 265,
     "metadata": {},
     "output_type": "execute_result"
    },
    {
     "data": {
      "image/png": "[encoded data removed]",
      "text/plain": [
       "<Figure size 432x288 with 1 Axes>"
      ]
     },
     "metadata": {},
     "output_type": "display_data"
    }
   ],
   "source": [
    "sns.violinplot(x=\"city\", y = municipality[\"Mean\"], data = municipality, palette = \"Set3\", ax = axes[1])"
   ]
  },
  {
   "cell_type": "markdown",
   "metadata": {},
   "source": [
    "We found that Shanghai has the largest consumtion in electrity but from the data of total consumption, Beijing uses more energy than others. It is not obvious in `violin plot` but clear in `box plot`. "
   ]
  },
  {
   "cell_type": "markdown",
   "metadata": {},
   "source": [
    "## Difficult & Limitation\n",
    "   \n",
    "`Diffcult`: The biggest difficult is lack of knowledge. I am not familiar to judge which kinds of plot fits in show the data I analyze. So selecting chart and studying their cods use a lot of time.\n",
    "`Limitation`: Lack of time. I just use one day to finish this project and just analyze the electrity consumption part in details."
   ]
  },
  {
   "cell_type": "markdown",
   "metadata": {},
   "source": [
    "## Reference "
   ]
  },
  {
   "cell_type": "markdown",
   "metadata": {},
   "source": [
    "1. Seaborn [1]\n",
    "2. Pandas 0.24.2 documentation [2]\n",
    "3. National Data [3]\n",
    "4. Energy in the Netherlands, an introductory kernel [4]\n",
    "\n",
    "[1]: https://seaborn.pydata.org\n",
    "[2]: https://padas.pydata.org\n",
    "[3]: http://data.stats.gov.cn/english/\n",
    "[4]: https://www.kaggle.com/lucabasa/energy-in-the-netherlands-an-introductory-kernel/data#Aggregating-data-by-city,-the-better-way"
   ]
  },
  {
   "cell_type": "markdown",
   "metadata": {},
   "source": []
  }
 ],
 "metadata": {
  "kernelspec": {
   "display_name": "Python 3",
   "language": "python",
   "name": "python3"
  },
  "language_info": {
   "codemirror_mode": {
    "name": "ipython",
    "version": 3
   },
   "file_extension": ".py",
   "mimetype": "text/x-python",
   "name": "python",
   "nbconvert_exporter": "python",
   "pygments_lexer": "ipython3",
   "version": "3.7.1"
  }
 },
 "nbformat": 4,
 "nbformat_minor": 2
}
